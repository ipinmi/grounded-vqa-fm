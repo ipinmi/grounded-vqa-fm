{
  "nbformat": 4,
  "nbformat_minor": 0,
  "metadata": {
    "colab": {
      "provenance": [],
      "authorship_tag": "ABX9TyPRd0HmNusFXUWKGm4GJYVj",
      "include_colab_link": true
    },
    "kernelspec": {
      "name": "python3",
      "display_name": "Python 3"
    },
    "language_info": {
      "name": "python"
    }
  },
  "cells": [
    {
      "cell_type": "markdown",
      "metadata": {
        "id": "view-in-github",
        "colab_type": "text"
      },
      "source": [
        "<a href=\"https://colab.research.google.com/github/ipinmi/grounded-vqa-fm/blob/detection/clip_vqa_demo.ipynb\" target=\"_parent\"><img src=\"https://colab.research.google.com/assets/colab-badge.svg\" alt=\"Open In Colab\"/></a>"
      ]
    },
    {
      "cell_type": "code",
      "execution_count": 1,
      "metadata": {
        "id": "7s8zacFAegbV",
        "colab": {
          "base_uri": "https://localhost:8080/"
        },
        "outputId": "18b361fc-741c-42f4-a7bd-6fd9b699dd1a"
      },
      "outputs": [
        {
          "output_type": "stream",
          "name": "stdout",
          "text": [
            "Archive:  vcr1annots.zip\n",
            "   creating: vcr1annots/\n",
            "  inflating: vcr1annots/train.jsonl  \n",
            "  inflating: vcr1annots/cocoontology.json  \n",
            "  inflating: vcr1annots/val.jsonl    \n"
          ]
        }
      ],
      "source": [
        "!unzip vcr1annots.zip"
      ]
    },
    {
      "cell_type": "code",
      "source": [
        "!unzip vcr1images.zip"
      ],
      "metadata": {
        "id": "M3vfRLXofPc0"
      },
      "execution_count": null,
      "outputs": []
    },
    {
      "cell_type": "code",
      "source": [
        "!git clone https://ipinmi:@github.com/ipinmi/grounded-vqa-fm.git"
      ],
      "metadata": {
        "colab": {
          "base_uri": "https://localhost:8080/"
        },
        "id": "tKRez3P_ftqj",
        "outputId": "4cc4f29b-8fd8-407d-fe73-510cb1685f2c"
      },
      "execution_count": 7,
      "outputs": [
        {
          "output_type": "stream",
          "name": "stdout",
          "text": [
            "Cloning into 'grounded-vqa-fm'...\n",
            "remote: Enumerating objects: 29, done.\u001b[K\n",
            "remote: Counting objects: 100% (29/29), done.\u001b[K\n",
            "remote: Compressing objects: 100% (23/23), done.\u001b[K\n",
            "remote: Total 29 (delta 5), reused 17 (delta 3), pack-reused 0 (from 0)\u001b[K\n",
            "Receiving objects: 100% (29/29), 52.24 KiB | 1.93 MiB/s, done.\n",
            "Resolving deltas: 100% (5/5), done.\n"
          ]
        }
      ]
    },
    {
      "cell_type": "code",
      "source": [
        "!cd grounded-vqa-fm && git checkout detection"
      ],
      "metadata": {
        "colab": {
          "base_uri": "https://localhost:8080/"
        },
        "id": "Nxyo5JI4gHQ6",
        "outputId": "e5096c52-2d78-4200-965f-66b3b1d71a95"
      },
      "execution_count": 8,
      "outputs": [
        {
          "output_type": "stream",
          "name": "stdout",
          "text": [
            "Branch 'detection' set up to track remote branch 'detection' from 'origin'.\n",
            "Switched to a new branch 'detection'\n"
          ]
        }
      ]
    },
    {
      "cell_type": "code",
      "source": [],
      "metadata": {
        "id": "IfjNT8IFkb3V"
      },
      "execution_count": null,
      "outputs": []
    }
  ]
}